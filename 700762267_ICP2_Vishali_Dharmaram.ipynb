{
  "nbformat": 4,
  "nbformat_minor": 0,
  "metadata": {
    "colab": {
      "provenance": [],
      "authorship_tag": "ABX9TyMgisb0qbE9DrcgQ+lg8zfT",
      "include_colab_link": true
    },
    "kernelspec": {
      "name": "python3",
      "display_name": "Python 3"
    },
    "language_info": {
      "name": "python"
    }
  },
  "cells": [
    {
      "cell_type": "markdown",
      "metadata": {
        "id": "view-in-github",
        "colab_type": "text"
      },
      "source": [
        "<a href=\"https://colab.research.google.com/github/Vdharmaram/Neural-Networks-and-Deep-Learning-ICP2/blob/main/700762267_ICP2_Vishali_Dharmaram.ipynb\" target=\"_parent\"><img src=\"https://colab.research.google.com/assets/colab-badge.svg\" alt=\"Open In Colab\"/></a>"
      ]
    },
    {
      "cell_type": "markdown",
      "source": [
        "1. Create a class Employee and then do the following\n",
        "• Create a data member to count the number of Employees\n",
        "• Create a constructor to initialize name, family, salary, department\n",
        "• Create a function to average salary\n",
        "• Create a Fulltime Employee class and it should inherit the properties of Employee class\n",
        "• Create the instances of Fulltime Employee class and Employee class and call their member functions."
      ],
      "metadata": {
        "id": "i9Tcxxzph4V2"
      }
    },
    {
      "cell_type": "code",
      "execution_count": 12,
      "metadata": {
        "colab": {
          "base_uri": "https://localhost:8080/"
        },
        "id": "-v8C7oVTe13h",
        "outputId": "92510c22-fc27-49d0-d6ff-e19870ec1dd0"
      },
      "outputs": [
        {
          "output_type": "stream",
          "name": "stdout",
          "text": [
            "avg: 6500.0\n",
            "Name :  Vishali Family:  Dharmaram Salary:  4000 department: Backend\n",
            "Total Employee 3\n"
          ]
        },
        {
          "output_type": "execute_result",
          "data": {
            "text/plain": [
              "('Samsung', None, None)"
            ]
          },
          "metadata": {},
          "execution_count": 12
        }
      ],
      "source": [
        "class Employee:#Create an Employee class\n",
        "    employeeCount=0 #employeeConut is used to keep track of numner of employee objects\n",
        "    salaraySum=0 #salarySum is used to take the average of the salaries of the Employee object\n",
        "    def __init__(self,name,family,salary,department): #constructor for Employee as per the requirements\n",
        "        self.name = name\n",
        "        self.family = family\n",
        "        self.salary = salary\n",
        "        self.department = department\n",
        "        Employee.employeeCount+= 1\n",
        "        Employee.salaraySum+=self.salary # Accessing the class-level salarySum\n",
        "    def avg(self):\n",
        "        return Employee.salaraySum/Employee.employeeCount\n",
        "    def displayCount(self): #One of the functions in Employee class\n",
        "        print (\"Total Employee %d\" % Employee.employeeCount)\n",
        "    def displayEmployee(self):#another function for employee class\n",
        "        print(\"Name : \", self.name, \"Family: \", self.family , \"Salary: \", self.salary, \"department:\",self.department)\n",
        "\n",
        "emp1 = Employee(\"supriya\",\"vedere\",5000,\"Research\")#Employee objects creation with intialization\n",
        "emp2 = Employee(\"krishna\",\"Singarapu\",8000,\"Development\")\n",
        "print(\"avg:\",emp2.avg())#calling average function\n",
        "class FulltimeEmployee(Employee):#FulltimeEmployee class with Employee as its parent class\n",
        "    def __init__(self,name,family,salary,department,c_name):#constructor for FulltimeEmployee\n",
        "        super().__init__(name,family,salary,department)\n",
        "        self.c_name=c_name\n",
        "    def setCompany(self,c_name):#one of the FulltimeEmployee class function\n",
        "        self.c_name=c_name\n",
        "    def getCompany(self):\n",
        "        if self.c_name not in self.c_name:\n",
        "            return \"\"\n",
        "        return self.c_name\n",
        "vd=FulltimeEmployee(\"Vishali\",\"Dharmaram\",4000,\"Backend\",\"Google\")#FultimeEmployee object\n",
        "vd.setCompany(\"Samsung\")#calling the member functions of FulltimeEmploye and Employee\n",
        "vd.getCompany(),vd.displayEmployee(),emp1.displayCount()"
      ]
    },
    {
      "cell_type": "markdown",
      "source": [
        "2. Numpy  Using NumPy create random vector of size 20 having only float in the range 1-20.\n",
        "Then reshape the array to 4 by 5\n",
        "Then replace the max in each row by 0 (axis=1)\n",
        "(you can NOT implement it via for loop)"
      ],
      "metadata": {
        "id": "htooG8uMiOxL"
      }
    },
    {
      "cell_type": "code",
      "source": [
        "import numpy as np #importing numpy library\n",
        "v=np.arange(1,21,dtype=float) #creating a numpy v with arange function\n",
        "print(v)\n",
        "v=v.reshape(4,5)#reshaping the v with reshape() function\n",
        "print(v)\n",
        "v=np.where(np.isin(v,v.max(axis=1)),0,v)#finding the max values in row and replacing them with zero using np.where() and np.max() function v"
      ],
      "metadata": {
        "colab": {
          "base_uri": "https://localhost:8080/"
        },
        "id": "KATPd8w7fD2p",
        "outputId": "9f9bec93-43ec-4244-a3c8-41e91775e17a"
      },
      "execution_count": 11,
      "outputs": [
        {
          "output_type": "stream",
          "name": "stdout",
          "text": [
            "[ 1.  2.  3.  4.  5.  6.  7.  8.  9. 10. 11. 12. 13. 14. 15. 16. 17. 18.\n",
            " 19. 20.]\n",
            "[[ 1.  2.  3.  4.  5.]\n",
            " [ 6.  7.  8.  9. 10.]\n",
            " [11. 12. 13. 14. 15.]\n",
            " [16. 17. 18. 19. 20.]]\n"
          ]
        },
        {
          "output_type": "execute_result",
          "data": {
            "text/plain": [
              "array([[ 1.,  2.,  3.,  4.,  0.],\n",
              "       [ 6.,  7.,  8.,  9.,  0.],\n",
              "       [11., 12., 13., 14.,  0.],\n",
              "       [16., 17., 18., 19.,  0.]])"
            ]
          },
          "metadata": {},
          "execution_count": 11
        }
      ]
    },
    {
      "cell_type": "markdown",
      "source": [
        "https://drive.google.com/file/d/11q7O07MgpUajz8lnDtZZhVkyeBQ_PevB/view?usp=sharing"
      ],
      "metadata": {
        "id": "OJHnpwQusvs5"
      }
    }
  ]
}